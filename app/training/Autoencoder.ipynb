{
  "nbformat": 4,
  "nbformat_minor": 0,
  "metadata": {
    "colab": {
      "name": "Autoencoder.ipynb",
      "provenance": [],
      "collapsed_sections": [],
      "toc_visible": true
    },
    "kernelspec": {
      "display_name": "Python 3",
      "name": "python3"
    }
  },
  "cells": [
    {
      "cell_type": "markdown",
      "metadata": {
        "id": "8UGe2s6Ud3zo"
      },
      "source": [
        "**NOTE:**\r\n",
        "\r\n",
        "Before running the codes, you need to download the main project folder to the main directory of your Google Drive."
      ]
    },
    {
      "cell_type": "markdown",
      "metadata": {
        "id": "8wh5vazuZ01D"
      },
      "source": [
        "# Libraries and Dataset"
      ]
    },
    {
      "cell_type": "markdown",
      "metadata": {
        "id": "Hd_IsLCpYkiV"
      },
      "source": [
        "Import the necessary libraries and the TensorBoard notebook extension."
      ]
    },
    {
      "cell_type": "code",
      "metadata": {
        "id": "ZZS7uXfpujO6"
      },
      "source": [
        "%reset -f\r\n",
        "import keras\r\n",
        "import tensorflow as tf\r\n",
        "from keras import layers\r\n",
        "from keras.datasets import mnist\r\n",
        "import numpy as np\r\n",
        "from numpy import genfromtxt\r\n",
        "from matplotlib import pyplot as plt\r\n",
        "import matplotlib.image as mpimg \r\n",
        "from keras.callbacks import TensorBoard\r\n",
        "from google.colab import files\r\n",
        "from keras.models import Model, load_model\r\n",
        "from keras.preprocessing.image import ImageDataGenerator\r\n",
        "from random import randint, seed\r\n",
        "from IPython.display import clear_output \r\n",
        "%reload_ext tensorboard"
      ],
      "execution_count": null,
      "outputs": []
    },
    {
      "cell_type": "markdown",
      "metadata": {
        "id": "dUPn6-E9ZqMT"
      },
      "source": [
        "Download MNIST dataset and split it into training, development and test sets and add white Gaussian noise with varying noise levels."
      ]
    },
    {
      "cell_type": "code",
      "metadata": {
        "colab": {
          "base_uri": "https://localhost:8080/"
        },
        "id": "eOX5Hb3_zukO",
        "outputId": "2464e5a0-eb22-466a-e843-5b47fec40f7e"
      },
      "source": [
        "(x_train_temp, _), (x_test_temp, _) = mnist.load_data()\r\n",
        "\r\n",
        "x_test_temp = x_test_temp[1000:len(x_test_temp)]\r\n",
        "# Create noisy data\r\n",
        "x_train_temp = x_train_temp.astype('float32') / 255.\r\n",
        "x_test_temp = x_test_temp.astype('float32') / 255.\r\n",
        "x_train_temp = np.reshape(x_train_temp, (len(x_train_temp), 28, 28, 1))\r\n",
        "x_test_temp = np.reshape(x_test_temp, (len(x_test_temp), 28, 28, 1))\r\n",
        "\r\n",
        "x_train_noisy = np.empty([len(x_train_temp),28,28,1])\r\n",
        "x_test_noisy = np.empty([len(x_test_temp),28,28,1])\r\n",
        "\r\n",
        "for i in range(len(x_train_temp)):\r\n",
        "  noise_factor = np.random.randint(0, 60)/100\r\n",
        "  x_train_noisy[i] = x_train_temp[i] + noise_factor * np.random.normal(loc=0.0, scale=1.0, size=x_train_temp[0].shape)\r\n",
        "\r\n",
        "for i in range(len(x_test_temp)):\r\n",
        "  noise_factor = np.random.randint(0, 60)/100\r\n",
        "  x_test_noisy[i] = x_test_temp[i] + noise_factor * np.random.normal(loc=0.0, scale=1.0, size=x_test_temp[0].shape)\r\n",
        "\r\n",
        "x_train_noisy = np.clip(x_train_noisy, 0., 1.)\r\n",
        "x_test_noisy = np.clip(x_test_noisy, 0., 1.)\r\n",
        "\r\n",
        "x_train = np.concatenate([x_train_temp,x_train_noisy]);\r\n",
        "y_train = np.concatenate([x_train_temp,x_train_temp]);\r\n",
        "x_test = np.concatenate([x_test_temp,x_test_noisy]);\r\n",
        "y_test = np.concatenate([x_test_temp,x_test_temp]);\r\n",
        "\r\n",
        "print(\"Train set size : \", x_train.shape)\r\n",
        "print(\"Train set labels size : \", y_train.shape)\r\n",
        "print(\"Test set size : \", x_test.shape)\r\n",
        "print(\"Test set labels size : \", y_test.shape)"
      ],
      "execution_count": null,
      "outputs": [
        {
          "output_type": "stream",
          "text": [
            "Downloading data from https://storage.googleapis.com/tensorflow/tf-keras-datasets/mnist.npz\n",
            "11493376/11490434 [==============================] - 0s 0us/step\n",
            "Train set size :  (120000, 28, 28, 1)\n",
            "Train set labels size :  (120000, 28, 28, 1)\n",
            "Test set size :  (18000, 28, 28, 1)\n",
            "Test set labels size :  (18000, 28, 28, 1)\n"
          ],
          "name": "stdout"
        }
      ]
    },
    {
      "cell_type": "markdown",
      "metadata": {
        "id": "IQOsO7B1DzYJ"
      },
      "source": [
        "# Training the CAE image Compressor"
      ]
    },
    {
      "cell_type": "code",
      "metadata": {
        "id": "Njp_gcPZbEWc"
      },
      "source": [
        "encoder_input = keras.Input(shape=(28, 28, 1), name=\"original_img\")\r\n",
        "x = layers.Conv2D(16, 3, activation=\"relu\")(encoder_input)\r\n",
        "x = layers.MaxPooling2D((2, 2), padding='same')(x)\r\n",
        "x = layers.Conv2D(8, (3, 3), activation='relu', padding='same')(x)\r\n",
        "x = layers.BatchNormalization(axis = 3)(x)\r\n",
        "x = layers.Conv2D(8, (3, 3), activation='relu', padding='same')(x)\r\n",
        "x = layers.BatchNormalization(axis = 3)(x)\r\n",
        "x = layers.Conv2D(8, (3, 3), activation='relu', padding='same')(x)\r\n",
        "x = layers.MaxPooling2D((2, 2), padding='same')(x)\r\n",
        "x = layers.Conv2D(8, (3, 3), activation='relu', padding='same')(x)\r\n",
        "x = layers.BatchNormalization(axis = 3)(x)\r\n",
        "x = layers.Conv2D(8, (3, 3), activation='relu', padding='same')(x)\r\n",
        "x = layers.BatchNormalization(axis = 3)(x)\r\n",
        "x = layers.Conv2D(8, (3, 3), activation='relu', padding='same')(x)\r\n",
        "encoder_output = layers.MaxPooling2D((2, 2), padding='same')(x)\r\n",
        "\r\n",
        "encoder = keras.Model(encoder_input, encoder_output, name=\"encoder\")\r\n",
        "\r\n",
        "decoder_input = keras.Input(shape=(4, 4, 8), name=\"encoded_img\")\r\n",
        "x = layers.Reshape((4, 4, 8))(decoder_input)\r\n",
        "x = layers.Conv2D(8, (3, 3), activation='relu', padding='same')(x)\r\n",
        "x = layers.BatchNormalization(axis = 3)(x)\r\n",
        "x = layers.Conv2D(8, (3, 3), activation='relu', padding='same')(x)\r\n",
        "x = layers.BatchNormalization(axis = 3)(x)\r\n",
        "x = layers.Conv2D(8, (3, 3), activation='relu', padding='same')(x)\r\n",
        "x = layers.UpSampling2D((2, 2))(x)\r\n",
        "x = layers.Conv2D(8, (3, 3), activation='relu', padding='same')(x)\r\n",
        "x = layers.BatchNormalization(axis = 3)(x)\r\n",
        "x = layers.Conv2D(8, (3, 3), activation='relu', padding='same')(x)\r\n",
        "x = layers.BatchNormalization(axis = 3)(x)\r\n",
        "x = layers.Conv2D(8, (3, 3), activation='relu', padding='same')(x)\r\n",
        "x = layers.UpSampling2D((2, 2))(x)\r\n",
        "x = layers.Conv2D(16, (3, 3), activation='relu')(x)\r\n",
        "x = layers.UpSampling2D((2, 2))(x)\r\n",
        "decoder_output = layers.Conv2D(1, (3, 3), activation='sigmoid', padding='same')(x)\r\n",
        "\r\n",
        "decoder = keras.Model(decoder_input, decoder_output, name=\"decoder\")\r\n",
        "\r\n",
        "autoencoder_input = keras.Input(shape=(28, 28, 1), name=\"img\")\r\n",
        "encoded_img = encoder(autoencoder_input)\r\n",
        "decoded_img = decoder(encoded_img)\r\n",
        "autoencoder = keras.Model(autoencoder_input, decoded_img, name=\"autoencoder\")\r\n",
        "\r\n",
        "autoencoder.compile(optimizer='adam', loss='binary_crossentropy')\r\n",
        "\r\n",
        "autoencoder.fit(x_train, y_train,\r\n",
        "                epochs=15,\r\n",
        "                batch_size=128,\r\n",
        "                shuffle=True,\r\n",
        "                validation_data=(x_test, y_test),\r\n",
        "                callbacks=[TensorBoard(log_dir='/tmp/autoencoder')])"
      ],
      "execution_count": null,
      "outputs": []
    },
    {
      "cell_type": "code",
      "metadata": {
        "id": "CIpSeAfx6NeF"
      },
      "source": [
        "encoder.summary()"
      ],
      "execution_count": null,
      "outputs": []
    },
    {
      "cell_type": "markdown",
      "metadata": {
        "id": "NQa8Bj4AbfeT"
      },
      "source": [
        "# Testing the CAE compressor"
      ]
    },
    {
      "cell_type": "markdown",
      "metadata": {
        "id": "jkL55I3PeKMQ"
      },
      "source": [
        "Load the trained models"
      ]
    },
    {
      "cell_type": "code",
      "metadata": {
        "id": "28Dt06kQejz_",
        "colab": {
          "base_uri": "https://localhost:8080/"
        },
        "outputId": "1e143611-43d6-45c3-9b8c-884bfcc3cdd9"
      },
      "source": [
        "from google.colab import drive\r\n",
        "drive.mount('/content/drive')\r\n",
        "\r\n",
        "encoder = load_model('/content/drive/MyDrive/KABAS-OGUTEN-EE3001-Term-Project/models/encoder.h5')\r\n",
        "decoder = load_model('/content/drive/MyDrive/KABAS-OGUTEN-EE3001-Term-Project/models/decoder.h5')"
      ],
      "execution_count": null,
      "outputs": [
        {
          "output_type": "stream",
          "text": [
            "Mounted at /content/drive\n",
            "WARNING:tensorflow:No training configuration found in the save file, so the model was *not* compiled. Compile it manually.\n",
            "WARNING:tensorflow:No training configuration found in the save file, so the model was *not* compiled. Compile it manually.\n"
          ],
          "name": "stdout"
        }
      ]
    },
    {
      "cell_type": "markdown",
      "metadata": {
        "id": "8r-xhvNiqmEX"
      },
      "source": [
        "Run the trained model to compress images"
      ]
    },
    {
      "cell_type": "code",
      "metadata": {
        "id": "FKH500DrtVr6",
        "colab": {
          "base_uri": "https://localhost:8080/",
          "height": 381
        },
        "outputId": "d8affa45-6062-41f1-ab19-da68902b5496"
      },
      "source": [
        "# Get a test image\r\n",
        "index = np.random.randint(0, 1000)\r\n",
        "img = x_test[index]\r\n",
        "\r\n",
        "# Plot test image\r\n",
        "ax = plt.subplot(1, 2, 1)\r\n",
        "plt.imshow(img.reshape(28, 28))\r\n",
        "plt.title('Original image')\r\n",
        "plt.axis('off')\r\n",
        "plt.gray()\r\n",
        "plt.show()\r\n",
        "\r\n",
        "# Autoencoder\r\n",
        "img = np.reshape(img, (1, 28, 28, 1))\r\n",
        "encoded = encoder.predict(img)\r\n",
        "decoded = decoder.predict(encoded)\r\n",
        "\r\n",
        "# Show Autoencoder output \r\n",
        "ax = plt.subplot(1, 2, 2)\r\n",
        "plt.imshow(decoded.reshape(28, 28))\r\n",
        "plt.title('Autoencecoder output')\r\n",
        "plt.axis('off')\r\n",
        "plt.gray()\r\n",
        "plt.show()"
      ],
      "execution_count": null,
      "outputs": [
        {
          "output_type": "display_data",
          "data": {
            "image/png": "[encoded data removed]",
            "text/plain": [
              "<Figure size 432x288 with 1 Axes>"
            ]
          },
          "metadata": {
            "tags": [],
            "needs_background": "light"
          }
        },
        {
          "output_type": "display_data",
          "data": {
            "image/png": "[encoded data removed]",
            "text/plain": [
              "<Figure size 432x288 with 1 Axes>"
            ]
          },
          "metadata": {
            "tags": [],
            "needs_background": "light"
          }
        }
      ]
    },
    {
      "cell_type": "markdown",
      "metadata": {
        "id": "mzEfRfdphILX"
      },
      "source": [
        "Test on noisy images"
      ]
    },
    {
      "cell_type": "code",
      "metadata": {
        "id": "C8Qt45z1CqQS",
        "colab": {
          "base_uri": "https://localhost:8080/",
          "height": 381
        },
        "outputId": "971b2893-8f35-4953-c05b-075fbe9fee08"
      },
      "source": [
        "# Get a test image\r\n",
        "index = np.random.randint(0, 1000)\r\n",
        "img = x_test[index]\r\n",
        "\r\n",
        "# Adding noise\r\n",
        "noise_factor = 0.5\r\n",
        "img = img + noise_factor * np.random.normal(loc=0.0, scale=1.0, size=img.shape)\r\n",
        "img = np.clip(img, 0., 1.)\r\n",
        "\r\n",
        "# Show the noisy image\r\n",
        "ax = plt.subplot(1, 2, 2)\r\n",
        "plt.imshow(img.reshape(28, 28))\r\n",
        "plt.title('Noisy image')\r\n",
        "plt.axis('off')\r\n",
        "plt.gray()\r\n",
        "plt.show()\r\n",
        "\r\n",
        "# Autoencoder\r\n",
        "img = np.reshape(img, (1, 28, 28, 1))\r\n",
        "encoded = encoder.predict(img)\r\n",
        "decoded = decoder.predict(encoded)\r\n",
        "\r\n",
        "# Show Autoencoder output \r\n",
        "ax = plt.subplot(1, 2, 2)\r\n",
        "plt.imshow(decoded.reshape(28, 28))\r\n",
        "plt.title('Autoencecoder output')\r\n",
        "plt.axis('off')\r\n",
        "plt.gray()\r\n",
        "plt.show()"
      ],
      "execution_count": null,
      "outputs": [
        {
          "output_type": "display_data",
          "data": {
            "image/png": "[encoded data removed]",
            "text/plain": [
              "<Figure size 432x288 with 1 Axes>"
            ]
          },
          "metadata": {
            "tags": [],
            "needs_background": "light"
          }
        },
        {
          "output_type": "display_data",
          "data": {
            "image/png": "[encoded data removed]",
            "text/plain": [
              "<Figure size 432x288 with 1 Axes>"
            ]
          },
          "metadata": {
            "tags": [],
            "needs_background": "light"
          }
        }
      ]
    },
    {
      "cell_type": "markdown",
      "metadata": {
        "id": "TqmDNZQQgtgn"
      },
      "source": [
        "# Testing the accuracy of the CAE compressor"
      ]
    },
    {
      "cell_type": "markdown",
      "metadata": {
        "id": "0RdU625mg5xe"
      },
      "source": [
        "Testing the accuracy of the CAE compressor using the ResNet classifier for different noise levels"
      ]
    },
    {
      "cell_type": "code",
      "metadata": {
        "colab": {
          "base_uri": "https://localhost:8080/"
        },
        "id": "9_4ETiBw3bNc",
        "outputId": "2aed1078-6e0a-4ee0-96d9-de4a898e92a7"
      },
      "source": [
        "# Load the data set\r\n",
        "num_classes = 10\r\n",
        "input_shape = (28, 28, 1)\r\n",
        "\r\n",
        "(x_train, y_train), (x_test, y_test) = mnist.load_data()\r\n",
        "\r\n",
        "x_train = x_train.astype(\"float32\") / 255\r\n",
        "x_test = x_test.astype(\"float32\") / 255\r\n",
        "\r\n",
        "y_train = keras.utils.to_categorical(y_train, num_classes)\r\n",
        "y_test = keras.utils.to_categorical(y_test, num_classes)\r\n",
        "\r\n",
        "# Load the ResNet classifier\r\n",
        "classification = load_model('/content/drive/MyDrive/KABAS-OGUTEN-EE3001-Term-Project/models/classification.h5')\r\n",
        "\r\n",
        "# Calculate the accuracy\r\n",
        "length = 1000\r\n",
        "noise_factor = 0.3\r\n",
        "correct = 0\r\n",
        "\r\n",
        "for i in range(length):\r\n",
        "  img = x_test[i]\r\n",
        "  img = img + noise_factor * np.random.normal(loc=0.0, scale=1.0, size=img.shape)\r\n",
        "  img = np.clip(img, 0., 1.)\r\n",
        "  img = np.reshape(img, (1, 28, 28, 1))\r\n",
        "  encoded = encoder.predict(img)\r\n",
        "  decoded = decoder.predict(encoded)\r\n",
        "  pre = classification.predict(decoded)\r\n",
        "  if np.argmax(pre) == np.argmax(y_test[i]):\r\n",
        "    correct = correct + 1\r\n",
        "    print(correct)\r\n",
        "  clear_output()\r\n",
        "  print(i, \"/\", length)\r\n",
        "\r\n",
        "print(\"Accuracy: \" + str(correct*100/length) + \"%\")"
      ],
      "execution_count": null,
      "outputs": [
        {
          "output_type": "stream",
          "text": [
            "999 / 1000\n",
            "Accuracy: 95.2%\n"
          ],
          "name": "stdout"
        }
      ]
    }
  ]
}